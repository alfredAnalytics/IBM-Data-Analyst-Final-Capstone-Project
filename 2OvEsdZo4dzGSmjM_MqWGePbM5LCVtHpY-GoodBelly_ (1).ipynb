{
  "metadata": {
    "kernelspec": {
      "name": "python",
      "display_name": "Python (Pyodide)",
      "language": "python"
    },
    "language_info": {
      "codemirror_mode": {
        "name": "python",
        "version": 3
      },
      "file_extension": ".py",
      "mimetype": "text/x-python",
      "name": "python",
      "nbconvert_exporter": "python",
      "pygments_lexer": "ipython3",
      "version": "3.8"
    },
    "colab": {
      "provenance": []
    }
  },
  "nbformat_minor": 5,
  "nbformat": 4,
  "cells": [
    {
      "id": "f4d9c9eb",
      "cell_type": "code",
      "source": "import pandas as pd\nimport numpy as np\n%pip install openpyxl",
      "metadata": {
        "id": "f4d9c9eb",
        "trusted": true
      },
      "outputs": [],
      "execution_count": 4
    },
    {
      "id": "beb8389f",
      "cell_type": "code",
      "source": "path = \"GoodBelly-DataSet.xlsx\"\ndf=pd.read_excel(path)\ndf.head()",
      "metadata": {
        "id": "beb8389f",
        "outputId": "aaf273b3-a298-4d26-b5e7-9ce2fecd04f8",
        "trusted": true
      },
      "outputs": [
        {
          "execution_count": 8,
          "output_type": "execute_result",
          "data": {
            "text/plain": "        Date Region                    Store  Units Sold  \\\n0 2010-05-04     FL  Biscayne (aka Aventura)  150.702088   \n1 2010-05-11     FL  Biscayne (aka Aventura)  197.403797   \n2 2010-05-18     FL  Biscayne (aka Aventura)  235.106172   \n3 2010-05-25     FL  Biscayne (aka Aventura)  226.692427   \n4 2010-06-01     FL  Biscayne (aka Aventura)  257.688151   \n\n   Average Retail Price  Sales Rep  Endcap  Demo  Demo1-3  Demo4-5  Natural  \\\n0              4.390000          0       0     0        0        0        1   \n1              3.997692          0       0     0        0        0        1   \n2              3.809231          0       0     0        0        0        1   \n3              3.835000          0       0     0        0        0        1   \n4              3.902500          0       0     0        0        0        1   \n\n   Fitness  \n0        0  \n1        0  \n2        0  \n3        0  \n4        0  ",
            "text/html": "<div>\n<style scoped>\n    .dataframe tbody tr th:only-of-type {\n        vertical-align: middle;\n    }\n\n    .dataframe tbody tr th {\n        vertical-align: top;\n    }\n\n    .dataframe thead th {\n        text-align: right;\n    }\n</style>\n<table border=\"1\" class=\"dataframe\">\n  <thead>\n    <tr style=\"text-align: right;\">\n      <th></th>\n      <th>Date</th>\n      <th>Region</th>\n      <th>Store</th>\n      <th>Units Sold</th>\n      <th>Average Retail Price</th>\n      <th>Sales Rep</th>\n      <th>Endcap</th>\n      <th>Demo</th>\n      <th>Demo1-3</th>\n      <th>Demo4-5</th>\n      <th>Natural</th>\n      <th>Fitness</th>\n    </tr>\n  </thead>\n  <tbody>\n    <tr>\n      <th>0</th>\n      <td>2010-05-04</td>\n      <td>FL</td>\n      <td>Biscayne (aka Aventura)</td>\n      <td>150.702088</td>\n      <td>4.390000</td>\n      <td>0</td>\n      <td>0</td>\n      <td>0</td>\n      <td>0</td>\n      <td>0</td>\n      <td>1</td>\n      <td>0</td>\n    </tr>\n    <tr>\n      <th>1</th>\n      <td>2010-05-11</td>\n      <td>FL</td>\n      <td>Biscayne (aka Aventura)</td>\n      <td>197.403797</td>\n      <td>3.997692</td>\n      <td>0</td>\n      <td>0</td>\n      <td>0</td>\n      <td>0</td>\n      <td>0</td>\n      <td>1</td>\n      <td>0</td>\n    </tr>\n    <tr>\n      <th>2</th>\n      <td>2010-05-18</td>\n      <td>FL</td>\n      <td>Biscayne (aka Aventura)</td>\n      <td>235.106172</td>\n      <td>3.809231</td>\n      <td>0</td>\n      <td>0</td>\n      <td>0</td>\n      <td>0</td>\n      <td>0</td>\n      <td>1</td>\n      <td>0</td>\n    </tr>\n    <tr>\n      <th>3</th>\n      <td>2010-05-25</td>\n      <td>FL</td>\n      <td>Biscayne (aka Aventura)</td>\n      <td>226.692427</td>\n      <td>3.835000</td>\n      <td>0</td>\n      <td>0</td>\n      <td>0</td>\n      <td>0</td>\n      <td>0</td>\n      <td>1</td>\n      <td>0</td>\n    </tr>\n    <tr>\n      <th>4</th>\n      <td>2010-06-01</td>\n      <td>FL</td>\n      <td>Biscayne (aka Aventura)</td>\n      <td>257.688151</td>\n      <td>3.902500</td>\n      <td>0</td>\n      <td>0</td>\n      <td>0</td>\n      <td>0</td>\n      <td>0</td>\n      <td>1</td>\n      <td>0</td>\n    </tr>\n  </tbody>\n</table>\n</div>"
          },
          "metadata": {}
        }
      ],
      "execution_count": 8
    },
    {
      "id": "12123e22",
      "cell_type": "code",
      "source": "#Q1 - Give summary of numeric type of columns in dataset?\ndf.describe()",
      "metadata": {
        "id": "12123e22",
        "trusted": true
      },
      "outputs": [
        {
          "execution_count": 9,
          "output_type": "execute_result",
          "data": {
            "text/plain": "        Units Sold  Average Retail Price    Sales Rep       Endcap  \\\ncount  1386.000000           1386.000000  1386.000000  1386.000000   \nmean    253.820718              4.107093     0.549784     0.038240   \nstd     110.998731              0.463828     0.497695     0.191843   \nmin      47.559852              2.889286     0.000000     0.000000   \n25%     189.995471              3.775714     0.000000     0.000000   \n50%     236.735266              4.096667     1.000000     0.000000   \n75%     295.804391              4.425067     1.000000     0.000000   \nmax    1041.200256              6.251538     1.000000     1.000000   \n\n              Demo      Demo1-3      Demo4-5      Natural      Fitness  \ncount  1386.000000  1386.000000  1386.000000  1386.000000  1386.000000  \nmean      0.058442     0.156566     0.075758     1.448773     2.476190  \nstd       0.234661     0.363522     0.264705     0.975092     1.592789  \nmin       0.000000     0.000000     0.000000     0.000000     0.000000  \n25%       0.000000     0.000000     0.000000     1.000000     1.000000  \n50%       0.000000     0.000000     0.000000     1.000000     2.000000  \n75%       0.000000     0.000000     0.000000     2.000000     4.000000  \nmax       1.000000     1.000000     1.000000     4.000000     5.000000  ",
            "text/html": "<div>\n<style scoped>\n    .dataframe tbody tr th:only-of-type {\n        vertical-align: middle;\n    }\n\n    .dataframe tbody tr th {\n        vertical-align: top;\n    }\n\n    .dataframe thead th {\n        text-align: right;\n    }\n</style>\n<table border=\"1\" class=\"dataframe\">\n  <thead>\n    <tr style=\"text-align: right;\">\n      <th></th>\n      <th>Units Sold</th>\n      <th>Average Retail Price</th>\n      <th>Sales Rep</th>\n      <th>Endcap</th>\n      <th>Demo</th>\n      <th>Demo1-3</th>\n      <th>Demo4-5</th>\n      <th>Natural</th>\n      <th>Fitness</th>\n    </tr>\n  </thead>\n  <tbody>\n    <tr>\n      <th>count</th>\n      <td>1386.000000</td>\n      <td>1386.000000</td>\n      <td>1386.000000</td>\n      <td>1386.000000</td>\n      <td>1386.000000</td>\n      <td>1386.000000</td>\n      <td>1386.000000</td>\n      <td>1386.000000</td>\n      <td>1386.000000</td>\n    </tr>\n    <tr>\n      <th>mean</th>\n      <td>253.820718</td>\n      <td>4.107093</td>\n      <td>0.549784</td>\n      <td>0.038240</td>\n      <td>0.058442</td>\n      <td>0.156566</td>\n      <td>0.075758</td>\n      <td>1.448773</td>\n      <td>2.476190</td>\n    </tr>\n    <tr>\n      <th>std</th>\n      <td>110.998731</td>\n      <td>0.463828</td>\n      <td>0.497695</td>\n      <td>0.191843</td>\n      <td>0.234661</td>\n      <td>0.363522</td>\n      <td>0.264705</td>\n      <td>0.975092</td>\n      <td>1.592789</td>\n    </tr>\n    <tr>\n      <th>min</th>\n      <td>47.559852</td>\n      <td>2.889286</td>\n      <td>0.000000</td>\n      <td>0.000000</td>\n      <td>0.000000</td>\n      <td>0.000000</td>\n      <td>0.000000</td>\n      <td>0.000000</td>\n      <td>0.000000</td>\n    </tr>\n    <tr>\n      <th>25%</th>\n      <td>189.995471</td>\n      <td>3.775714</td>\n      <td>0.000000</td>\n      <td>0.000000</td>\n      <td>0.000000</td>\n      <td>0.000000</td>\n      <td>0.000000</td>\n      <td>1.000000</td>\n      <td>1.000000</td>\n    </tr>\n    <tr>\n      <th>50%</th>\n      <td>236.735266</td>\n      <td>4.096667</td>\n      <td>1.000000</td>\n      <td>0.000000</td>\n      <td>0.000000</td>\n      <td>0.000000</td>\n      <td>0.000000</td>\n      <td>1.000000</td>\n      <td>2.000000</td>\n    </tr>\n    <tr>\n      <th>75%</th>\n      <td>295.804391</td>\n      <td>4.425067</td>\n      <td>1.000000</td>\n      <td>0.000000</td>\n      <td>0.000000</td>\n      <td>0.000000</td>\n      <td>0.000000</td>\n      <td>2.000000</td>\n      <td>4.000000</td>\n    </tr>\n    <tr>\n      <th>max</th>\n      <td>1041.200256</td>\n      <td>6.251538</td>\n      <td>1.000000</td>\n      <td>1.000000</td>\n      <td>1.000000</td>\n      <td>1.000000</td>\n      <td>1.000000</td>\n      <td>4.000000</td>\n      <td>5.000000</td>\n    </tr>\n  </tbody>\n</table>\n</div>"
          },
          "metadata": {}
        }
      ],
      "execution_count": 9
    },
    {
      "id": "13283b1d",
      "cell_type": "code",
      "source": "#Q2 Calc STD of columns in dataset\nstd_deviation = df.std()\nprint(\"Standard deviation for numeric columns:\")\nprint(std_deviation)",
      "metadata": {
        "id": "13283b1d",
        "trusted": true
      },
      "outputs": [
        {
          "name": "stderr",
          "text": "<ipython-input-10-c23cfd9e872e>:2: FutureWarning: The default value of numeric_only in DataFrame.std is deprecated. In a future version, it will default to False. In addition, specifying 'numeric_only=None' is deprecated. Select only valid columns or specify the value of numeric_only to silence this warning.\n  std_deviation = df.std()\n",
          "output_type": "stream"
        },
        {
          "name": "stdout",
          "text": "Standard deviation for numeric columns:\nDate                    22 days 03:27:15.853934319\nUnits Sold                              110.998731\nAverage Retail Price                      0.463828\nSales Rep                                 0.497695\nEndcap                                    0.191843\nDemo                                      0.234661\nDemo1-3                                   0.363522\nDemo4-5                                   0.264705\nNatural                                   0.975092\nFitness                                   1.592789\ndtype: object\n",
          "output_type": "stream"
        }
      ],
      "execution_count": 10
    },
    {
      "id": "7c71300a",
      "cell_type": "code",
      "source": "#Q3 mean of first 50 records in dataset\nmean_first_50 = df.head(50).mean()\nprint(\"Mean values of the first 50 records:\")\nprint(mean_first_50)",
      "metadata": {
        "id": "7c71300a",
        "trusted": true
      },
      "outputs": [
        {
          "name": "stderr",
          "text": "<ipython-input-12-8e0b11822183>:2: FutureWarning: DataFrame.mean and DataFrame.median with numeric_only=None will include datetime64 and datetime64tz columns in a future version.\n  mean_first_50 = df.head(50).mean()\n<ipython-input-12-8e0b11822183>:2: FutureWarning: The default value of numeric_only in DataFrame.mean is deprecated. In a future version, it will default to False. In addition, specifying 'numeric_only=None' is deprecated. Select only valid columns or specify the value of numeric_only to silence this warning.\n  mean_first_50 = df.head(50).mean()\n",
          "output_type": "stream"
        },
        {
          "name": "stdout",
          "text": "Mean values of the first 50 records:\nUnits Sold              186.280727\nAverage Retail Price      4.128036\nSales Rep                 0.000000\nEndcap                    0.100000\nDemo                      0.000000\nDemo1-3                   0.000000\nDemo4-5                   0.040000\nNatural                   1.300000\nFitness                   1.560000\ndtype: float64\n",
          "output_type": "stream"
        }
      ],
      "execution_count": 12
    },
    {
      "id": "6a5e7d11",
      "cell_type": "code",
      "source": "#Q4 What are thecolumn names\ncolumn_names = df.columns.tolist()\nprint(f\"Column names: {column_names}\")",
      "metadata": {
        "id": "6a5e7d11",
        "trusted": true
      },
      "outputs": [
        {
          "name": "stdout",
          "text": "Column names: ['Date', 'Region', 'Store', 'Units Sold', 'Average Retail Price', 'Sales Rep', 'Endcap', 'Demo', 'Demo1-3', 'Demo4-5', 'Natural', 'Fitness']\n",
          "output_type": "stream"
        }
      ],
      "execution_count": 13
    },
    {
      "id": "d34a7891",
      "cell_type": "code",
      "source": "#Q - Number of elements in dataset\nnum_elements = df.size\nprint(f\"Number of elements: {num_elements}\")",
      "metadata": {
        "id": "d34a7891",
        "trusted": true
      },
      "outputs": [
        {
          "name": "stdout",
          "text": "Number of elements: 16632\n",
          "output_type": "stream"
        }
      ],
      "execution_count": 14
    },
    {
      "id": "0b111e99",
      "cell_type": "code",
      "source": "#Q- No. of records this dataset has\nnum_records = len(df)\nprint(f\"Number of records: {num_records}\")",
      "metadata": {
        "id": "0b111e99",
        "trusted": true
      },
      "outputs": [
        {
          "name": "stdout",
          "text": "Number of records: 1386\n",
          "output_type": "stream"
        }
      ],
      "execution_count": 15
    },
    {
      "id": "428747b0",
      "cell_type": "code",
      "source": "#Q type of column dataset has\ncolumn_types = df.dtypes\nprint(\"Column types:\")\nprint(column_types)",
      "metadata": {
        "id": "428747b0",
        "trusted": true
      },
      "outputs": [
        {
          "name": "stdout",
          "text": "Column types:\nDate                    datetime64[ns]\nRegion                          object\nStore                           object\nUnits Sold                     float64\nAverage Retail Price           float64\nSales Rep                        int64\nEndcap                           int64\nDemo                             int64\nDemo1-3                          int64\nDemo4-5                          int64\nNatural                          int64\nFitness                          int64\ndtype: object\n",
          "output_type": "stream"
        }
      ],
      "execution_count": 16
    },
    {
      "id": "21f7c0cd",
      "cell_type": "code",
      "source": "",
      "metadata": {
        "id": "21f7c0cd"
      },
      "outputs": [],
      "execution_count": null
    }
  ]
}